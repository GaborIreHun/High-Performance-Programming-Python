{
  "nbformat": 4,
  "nbformat_minor": 0,
  "metadata": {
    "colab": {
      "name": "L00170162_session_lab_6.ipynb",
      "provenance": [],
      "collapsed_sections": []
    },
    "kernelspec": {
      "name": "python3",
      "display_name": "Python 3"
    },
    "language_info": {
      "name": "python"
    }
  },
  "cells": [
    {
      "cell_type": "code",
      "execution_count": 41,
      "metadata": {
        "id": "Yw2aMqRfg9-z"
      },
      "outputs": [],
      "source": [
        "import numpy as np\n",
        "import numba as nb\n",
        "from decimal import *\n",
        "from numba import jit, njit, vectorize, cuda, guvectorize, int64, float32, float64\n",
        "from numpy.lib.function_base import vectorize\n",
        "import math\n",
        "from math import *\n",
        "import tensorflow as tf"
      ]
    },
    {
      "cell_type": "markdown",
      "source": [
        "Session Lab 6\n",
        "---\n",
        "\n",
        "c) Create a compiled function for the CPU to produce the sum of the reciprocals (1/x) in an array of size 100,000,000."
      ],
      "metadata": {
        "id": "_HxLrHPxPx9x"
      }
    },
    {
      "cell_type": "code",
      "source": [
        "# creating a numpy array with 100_000_000 elements\n",
        "arr = np.arange(1, 100000001)\n",
        "\n",
        "# creating complied function for CPU as per requirements\n",
        "@jit\n",
        "def sum_reciprocals(arr):\n",
        "  sum = 0.0\n",
        "  for i in arr:\n",
        "    sum += 1/i\n",
        "  return sum\n",
        "\n",
        "# checking sum of arr's elements reciprocals\n",
        "sum_reciprocals(arr)"
      ],
      "metadata": {
        "colab": {
          "base_uri": "https://localhost:8080/"
        },
        "id": "YRTesvB4jqme",
        "outputId": "a9aae57a-10fc-451e-df3b-6178a2a1c89c"
      },
      "execution_count": 42,
      "outputs": [
        {
          "output_type": "execute_result",
          "data": {
            "text/plain": [
              "18.997896413852555"
            ]
          },
          "metadata": {},
          "execution_count": 42
        }
      ]
    },
    {
      "cell_type": "code",
      "source": [
        "# timing the function's performance\n",
        "%timeit sum_reciprocals(arr)"
      ],
      "metadata": {
        "id": "PV09LUkfDAKg",
        "colab": {
          "base_uri": "https://localhost:8080/"
        },
        "outputId": "fdc3a8c7-9d9b-4b9f-a8de-778e4a87f3e5"
      },
      "execution_count": 43,
      "outputs": [
        {
          "output_type": "stream",
          "name": "stdout",
          "text": [
            "10 loops, best of 5: 170 ms per loop\n"
          ]
        }
      ]
    },
    {
      "cell_type": "markdown",
      "source": [
        "f) Create an initial array of 10 million elements and use the @vectorise decorator to calculate the inverse square (1/x2) of each element in the array. "
      ],
      "metadata": {
        "id": "vEOdtb8qQI5y"
      }
    },
    {
      "cell_type": "code",
      "source": [
        "from IPython.core.display import Math\n",
        "# creating a numpy array with 10_000_000 elements\n",
        "arr2 = np.arange(1, 10000001)\n",
        "\n",
        "# creating function to calculate inverse square as per requirement\n",
        "@vectorize\n",
        "def calculate_inverse_square(arr2):\n",
        "  return 1/pow(arr2, 2)\n",
        "\n",
        "# I tried the np.squeare(arr2) instead of pow(arr2, 2), however\n",
        "# there was a significant drop in time efficiency. The function\n",
        "# The kept version was almost 4 times faster then the trialed one.\n"
      ],
      "metadata": {
        "id": "E6lJObl6DAie"
      },
      "execution_count": 44,
      "outputs": []
    },
    {
      "cell_type": "code",
      "source": [
        "# calling the function to make sure it is working\n",
        "calculate_inverse_square(arr2)"
      ],
      "metadata": {
        "colab": {
          "base_uri": "https://localhost:8080/"
        },
        "id": "7dvzxihRQSys",
        "outputId": "44f48f74-703b-436e-cdee-8d9c9e693b9d"
      },
      "execution_count": 45,
      "outputs": [
        {
          "output_type": "execute_result",
          "data": {
            "text/plain": [
              "array([1.00000000e+00, 2.50000000e-01, 1.11111111e-01, ...,\n",
              "       1.00000040e-14, 1.00000020e-14, 1.00000000e-14])"
            ]
          },
          "metadata": {},
          "execution_count": 45
        }
      ]
    },
    {
      "cell_type": "code",
      "source": [
        "# timing the function\n",
        "%timeit calculate_inverse_square(arr2)"
      ],
      "metadata": {
        "colab": {
          "base_uri": "https://localhost:8080/"
        },
        "id": "vkvj77qsQS-r",
        "outputId": "c367d2ab-a26d-486e-dd78-64955527e736"
      },
      "execution_count": 46,
      "outputs": [
        {
          "output_type": "stream",
          "name": "stdout",
          "text": [
            "1 loop, best of 5: 3.15 s per loop\n"
          ]
        }
      ]
    },
    {
      "cell_type": "code",
      "source": [
        "print(arr2.dtype)"
      ],
      "metadata": {
        "colab": {
          "base_uri": "https://localhost:8080/"
        },
        "id": "jcAS9YKmqIiV",
        "outputId": "97b48d28-f090-48ff-fff4-9f27988e2671"
      },
      "execution_count": 47,
      "outputs": [
        {
          "output_type": "stream",
          "name": "stdout",
          "text": [
            "int64\n"
          ]
        }
      ]
    },
    {
      "cell_type": "code",
      "source": [
        "'''\n",
        "I had an attempt with below function also, however colab gave me an error\n",
        "regarding Cuda. I could not resolve the issue despite looking through \n",
        "stackoverflow, colab support, and cuda documentation. My pc cannot run\n",
        "the required environment. \n",
        "\n",
        "@vectorize(['int64(int64)'], target='cuda')\n",
        "def calculate_inverse_square(arr2):\n",
        "  return 1/pow(arr2, 2)\n",
        "'''"
      ],
      "metadata": {
        "colab": {
          "base_uri": "https://localhost:8080/",
          "height": 72
        },
        "id": "jB5_4EULmXyp",
        "outputId": "add10b59-ea4e-40de-88d1-e8e958d80ced"
      },
      "execution_count": 48,
      "outputs": [
        {
          "output_type": "execute_result",
          "data": {
            "application/vnd.google.colaboratory.intrinsic+json": {
              "type": "string"
            },
            "text/plain": [
              "\"\\nI had an attempt with below function also, however colab gave me an error\\nregarding Cuda. I could not resolve the issue despite looking through \\nstackoverflow, colab support, and cuda documentation. My pc cannot run\\nthe required environment. \\n\\n@vectorize(['int64(int64)'], target='cuda')\\ndef calculate_inverse_square(arr2):\\n  return 1/pow(arr2, 2)\\n\""
            ]
          },
          "metadata": {},
          "execution_count": 48
        }
      ]
    },
    {
      "cell_type": "markdown",
      "source": [
        "g)\tPerform the same task using a regular Python for… loop."
      ],
      "metadata": {
        "id": "HnxeC7qikVio"
      }
    },
    {
      "cell_type": "code",
      "source": [
        "# creating a numpy array with 10_000_000 elements\n",
        "arr3 = np.arange(1, 10000001)\n",
        "\n",
        "# # creating function to calculate inverse square as per requirement\n",
        "def calculate_inverse_square2(arr3):\n",
        "  list = []\n",
        "\n",
        "  for i in arr3:\n",
        "    list.append(1/pow(i, 2))\n",
        "  return list\n",
        "\n"
      ],
      "metadata": {
        "id": "hwI7x_o9zXX-"
      },
      "execution_count": 49,
      "outputs": []
    },
    {
      "cell_type": "code",
      "source": [
        "# timing the function\n",
        "%timeit calculate_inverse_square2(arr3)"
      ],
      "metadata": {
        "colab": {
          "base_uri": "https://localhost:8080/"
        },
        "id": "Vk-N1oHSqGRs",
        "outputId": "fa2a8063-1d63-4251-f3f2-0472844e473c"
      },
      "execution_count": 50,
      "outputs": [
        {
          "output_type": "stream",
          "name": "stdout",
          "text": [
            "1 loop, best of 5: 3.78 s per loop\n"
          ]
        }
      ]
    }
  ]
}